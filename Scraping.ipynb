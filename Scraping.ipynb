{
 "cells": [
  {
   "cell_type": "code",
   "execution_count": 2,
   "id": "korean-protection",
   "metadata": {},
   "outputs": [],
   "source": [
    "import tweepy\n",
    "from textblob import TextBlob\n",
    "from wordcloud import WordCloud\n",
    "import pandas as pd\n",
    "import numpy as np\n",
    "import re\n",
    "import matplotlib.pyplot as plt\n",
    "import json"
   ]
  },
  {
   "cell_type": "code",
   "execution_count": 3,
   "id": "widespread-seeker",
   "metadata": {},
   "outputs": [],
   "source": [
    "with open(\"secrets.json\") as content:\n",
    "    secrets = json.load(content)"
   ]
  },
  {
   "cell_type": "code",
   "execution_count": 4,
   "id": "general-philadelphia",
   "metadata": {},
   "outputs": [],
   "source": [
    "apiKey = secrets.get(\"apiKey\")\n",
    "apiSecret = secrets.get(\"apiSecret\")\n",
    "accessToken = secrets.get(\"accessToken\")\n",
    "accessTokenSecret = secrets.get(\"accessTokenSecret\")"
   ]
  },
  {
   "cell_type": "code",
   "execution_count": 5,
   "id": "endangered-slave",
   "metadata": {},
   "outputs": [],
   "source": [
    "auth = tweepy.OAuthHandler(apiKey, apiSecret)\n",
    "auth.set_access_token(accessToken, accessTokenSecret)\n",
    "twitterAPI = tweepy.API(auth, wait_on_rate_limit=True)"
   ]
  },
  {
   "cell_type": "code",
   "execution_count": 11,
   "id": "varying-battlefield",
   "metadata": {},
   "outputs": [],
   "source": [
    "#scrape for tweets about the snyder cut\n",
    "tweets = tweepy.Cursor(twitterAPI.search, q='#snydercut', max_id=None, count=None, exclude_replies=True, trim_user=True, contributor_details=False, include_entities=False, lang='en', since='2021-03-17').items(1300)"
   ]
  },
  {
   "cell_type": "code",
   "execution_count": 12,
   "id": "affiliated-lincoln",
   "metadata": {},
   "outputs": [],
   "source": [
    "#store for analysis\n",
    "tweets_df = pd.DataFrame(data=[tweet.text for tweet in tweets], columns=['Tweet'])"
   ]
  },
  {
   "cell_type": "code",
   "execution_count": 14,
   "id": "advisory-companion",
   "metadata": {},
   "outputs": [
    {
     "data": {
      "text/html": [
       "<div>\n",
       "<style scoped>\n",
       "    .dataframe tbody tr th:only-of-type {\n",
       "        vertical-align: middle;\n",
       "    }\n",
       "\n",
       "    .dataframe tbody tr th {\n",
       "        vertical-align: top;\n",
       "    }\n",
       "\n",
       "    .dataframe thead th {\n",
       "        text-align: right;\n",
       "    }\n",
       "</style>\n",
       "<table border=\"1\" class=\"dataframe\">\n",
       "  <thead>\n",
       "    <tr style=\"text-align: right;\">\n",
       "      <th></th>\n",
       "      <th>Tweet</th>\n",
       "    </tr>\n",
       "  </thead>\n",
       "  <tbody>\n",
       "    <tr>\n",
       "      <th>0</th>\n",
       "      <td>RT @_adammacdonald: No wonder Ben Affleck didn...</td>\n",
       "    </tr>\n",
       "    <tr>\n",
       "      <th>1</th>\n",
       "      <td>RT @getFANDOM: The #SnyderCut sets up a slew o...</td>\n",
       "    </tr>\n",
       "    <tr>\n",
       "      <th>2</th>\n",
       "      <td>RT @AlwaysFaithful0: #SnyderCut is the Film of...</td>\n",
       "    </tr>\n",
       "    <tr>\n",
       "      <th>3</th>\n",
       "      <td>RT @brookstweetz: No one does chest hair like ...</td>\n",
       "    </tr>\n",
       "    <tr>\n",
       "      <th>4</th>\n",
       "      <td>The Justice League Snyder cut is way better. T...</td>\n",
       "    </tr>\n",
       "  </tbody>\n",
       "</table>\n",
       "</div>"
      ],
      "text/plain": [
       "                                               Tweet\n",
       "0  RT @_adammacdonald: No wonder Ben Affleck didn...\n",
       "1  RT @getFANDOM: The #SnyderCut sets up a slew o...\n",
       "2  RT @AlwaysFaithful0: #SnyderCut is the Film of...\n",
       "3  RT @brookstweetz: No one does chest hair like ...\n",
       "4  The Justice League Snyder cut is way better. T..."
      ]
     },
     "execution_count": 14,
     "metadata": {},
     "output_type": "execute_result"
    }
   ],
   "source": [
    "tweets_df.head()"
   ]
  },
  {
   "cell_type": "code",
   "execution_count": 19,
   "id": "sound-guess",
   "metadata": {},
   "outputs": [],
   "source": [
    "def preprocessing(raw):\n",
    "    raw = re.sub(r'@[A-Za-z0-9_]+', ' ', raw)\n",
    "    raw = re.sub(r'#', ' ', raw)\n",
    "    raw = re.sub(r'RT ', ' ', raw)\n",
    "    raw = re.sub(r'https?:\\/\\/[A-Za-z0-9\\.\\/]+', ' ', raw)\n",
    "    raw = re.sub(r'(?::|;|=)(?:-)?(?:\\)|\\(|D|P)', ' ', raw)\n",
    "    raw = re.sub(r'[^a-zA-z0-9\\s]', ' ', raw)\n",
    "    return raw"
   ]
  },
  {
   "cell_type": "code",
   "execution_count": 20,
   "id": "black-payday",
   "metadata": {},
   "outputs": [],
   "source": [
    "tweets_df['Tweet'] = tweets_df['Tweet'].apply(preprocessing)"
   ]
  },
  {
   "cell_type": "code",
   "execution_count": 21,
   "id": "instructional-posting",
   "metadata": {},
   "outputs": [],
   "source": [
    "tweets_df.to_csv('snyderCutTweets.csv', index=False)"
   ]
  },
  {
   "cell_type": "code",
   "execution_count": 22,
   "id": "creative-width",
   "metadata": {},
   "outputs": [
    {
     "data": {
      "text/html": [
       "<div>\n",
       "<style scoped>\n",
       "    .dataframe tbody tr th:only-of-type {\n",
       "        vertical-align: middle;\n",
       "    }\n",
       "\n",
       "    .dataframe tbody tr th {\n",
       "        vertical-align: top;\n",
       "    }\n",
       "\n",
       "    .dataframe thead th {\n",
       "        text-align: right;\n",
       "    }\n",
       "</style>\n",
       "<table border=\"1\" class=\"dataframe\">\n",
       "  <thead>\n",
       "    <tr style=\"text-align: right;\">\n",
       "      <th></th>\n",
       "      <th>Tweet</th>\n",
       "    </tr>\n",
       "  </thead>\n",
       "  <tbody>\n",
       "    <tr>\n",
       "      <th>0</th>\n",
       "      <td>No wonder Ben Affleck didn t want to do an...</td>\n",
       "    </tr>\n",
       "    <tr>\n",
       "      <th>1</th>\n",
       "      <td>The  SnyderCut sets up a slew of sequels  ...</td>\n",
       "    </tr>\n",
       "    <tr>\n",
       "      <th>2</th>\n",
       "      <td>SnyderCut is the Film of Abed</td>\n",
       "    </tr>\n",
       "    <tr>\n",
       "      <th>3</th>\n",
       "      <td>No one does chest hair like Henry Cavill  ...</td>\n",
       "    </tr>\n",
       "    <tr>\n",
       "      <th>4</th>\n",
       "      <td>The Justice League Snyder cut is way better  T...</td>\n",
       "    </tr>\n",
       "  </tbody>\n",
       "</table>\n",
       "</div>"
      ],
      "text/plain": [
       "                                               Tweet\n",
       "0      No wonder Ben Affleck didn t want to do an...\n",
       "1      The  SnyderCut sets up a slew of sequels  ...\n",
       "2                  SnyderCut is the Film of Abed    \n",
       "3      No one does chest hair like Henry Cavill  ...\n",
       "4  The Justice League Snyder cut is way better  T..."
      ]
     },
     "execution_count": 22,
     "metadata": {},
     "output_type": "execute_result"
    }
   ],
   "source": [
    "tweets_df.head()"
   ]
  },
  {
   "cell_type": "code",
   "execution_count": null,
   "id": "solved-petite",
   "metadata": {},
   "outputs": [],
   "source": []
  }
 ],
 "metadata": {
  "kernelspec": {
   "display_name": "Python 3",
   "language": "python",
   "name": "python3"
  },
  "language_info": {
   "codemirror_mode": {
    "name": "ipython",
    "version": 3
   },
   "file_extension": ".py",
   "mimetype": "text/x-python",
   "name": "python",
   "nbconvert_exporter": "python",
   "pygments_lexer": "ipython3",
   "version": "3.7.6"
  }
 },
 "nbformat": 4,
 "nbformat_minor": 5
}
