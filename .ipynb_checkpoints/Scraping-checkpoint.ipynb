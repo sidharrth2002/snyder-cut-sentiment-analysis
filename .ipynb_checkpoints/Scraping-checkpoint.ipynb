{
 "cells": [
  {
   "cell_type": "code",
   "execution_count": 2,
   "id": "korean-protection",
   "metadata": {},
   "outputs": [],
   "source": [
    "import tweepy\n",
    "from textblob import TextBlob\n",
    "from wordcloud import WordCloud\n",
    "import pandas as pd\n",
    "import numpy as np\n",
    "import re\n",
    "import matplotlib.pyplot as plt\n",
    "import json"
   ]
  },
  {
   "cell_type": "code",
   "execution_count": 3,
   "id": "intense-offset",
   "metadata": {},
   "outputs": [],
   "source": [
    "with open(\"secrets.json\") as content:\n",
    "    secrets = json.load(content)"
   ]
  },
  {
   "cell_type": "code",
   "execution_count": 4,
   "id": "hindu-bulgaria",
   "metadata": {},
   "outputs": [],
   "source": [
    "apiKey = secrets.get(\"apiKey\")\n",
    "apiSecret = secrets.get(\"apiSecret\")\n",
    "accessToken = secrets.get(\"accessToken\")\n",
    "accessTokenSecret = secrets.get(\"accessTokenSecret\")"
   ]
  },
  {
   "cell_type": "code",
   "execution_count": 5,
   "id": "deadly-olympus",
   "metadata": {},
   "outputs": [],
   "source": [
    "auth = tweepy.OAuthHandler(apiKey, apiSecret)\n",
    "auth.set_access_token(accessToken, accessTokenSecret)\n",
    "twitterAPI = tweepy.API(auth, wait_on_rate_limit=True)"
   ]
  },
  {
   "cell_type": "code",
   "execution_count": 45,
   "id": "excellent-curtis",
   "metadata": {},
   "outputs": [],
   "source": [
    "#scrape for tweets about the snyder cut\n",
    "tweets = tweepy.Cursor(twitterAPI.search, q='#snydercut', max_id=None, count=None, exclude_replies=True, trim_user=True, contributor_details=False, include_entities=False, lang='en', since='2021-03-17').items(1300)"
   ]
  },
  {
   "cell_type": "code",
   "execution_count": 46,
   "id": "marine-rotation",
   "metadata": {},
   "outputs": [],
   "source": [
    "#store for analysis\n",
    "tweets_df = pd.DataFrame(data=[tweet.text for tweet in tweets], columns=['Tweet'])"
   ]
  },
  {
   "cell_type": "code",
   "execution_count": 47,
   "id": "cultural-keyboard",
   "metadata": {},
   "outputs": [
    {
     "data": {
      "text/html": [
       "<div>\n",
       "<style scoped>\n",
       "    .dataframe tbody tr th:only-of-type {\n",
       "        vertical-align: middle;\n",
       "    }\n",
       "\n",
       "    .dataframe tbody tr th {\n",
       "        vertical-align: top;\n",
       "    }\n",
       "\n",
       "    .dataframe thead th {\n",
       "        text-align: right;\n",
       "    }\n",
       "</style>\n",
       "<table border=\"1\" class=\"dataframe\">\n",
       "  <thead>\n",
       "    <tr style=\"text-align: right;\">\n",
       "      <th></th>\n",
       "      <th>Tweet</th>\n",
       "    </tr>\n",
       "  </thead>\n",
       "  <tbody>\n",
       "    <tr>\n",
       "      <th>0</th>\n",
       "      <td>RT @brookstweetz: I’m so glad these shots exis...</td>\n",
       "    </tr>\n",
       "    <tr>\n",
       "      <th>1</th>\n",
       "      <td>RT @carolinamunhoz: Jack Snyder’s Justice Leag...</td>\n",
       "    </tr>\n",
       "    <tr>\n",
       "      <th>2</th>\n",
       "      <td>RT @TaurooAldebaran: Diana's heels must be one...</td>\n",
       "    </tr>\n",
       "    <tr>\n",
       "      <th>3</th>\n",
       "      <td>RT @ray8fisher: Random Thought:\\n\\nGetting a s...</td>\n",
       "    </tr>\n",
       "    <tr>\n",
       "      <th>4</th>\n",
       "      <td>@Lesdoggg Let's gooooo #SnyderCut #superman ht...</td>\n",
       "    </tr>\n",
       "  </tbody>\n",
       "</table>\n",
       "</div>"
      ],
      "text/plain": [
       "                                               Tweet\n",
       "0  RT @brookstweetz: I’m so glad these shots exis...\n",
       "1  RT @carolinamunhoz: Jack Snyder’s Justice Leag...\n",
       "2  RT @TaurooAldebaran: Diana's heels must be one...\n",
       "3  RT @ray8fisher: Random Thought:\\n\\nGetting a s...\n",
       "4  @Lesdoggg Let's gooooo #SnyderCut #superman ht..."
      ]
     },
     "execution_count": 47,
     "metadata": {},
     "output_type": "execute_result"
    }
   ],
   "source": [
    "tweets_df.head()"
   ]
  },
  {
   "cell_type": "code",
   "execution_count": 75,
   "id": "cleared-honolulu",
   "metadata": {},
   "outputs": [],
   "source": [
    "def preprocessing(raw):\n",
    "    raw = re.sub(r'@[A-Za-z0-9_]+[:]?', ' ', raw)\n",
    "    raw = re.sub(r'#', ' ', raw)\n",
    "    raw = re.sub(r'RT ', ' ', raw)\n",
    "    raw = re.sub(r'https?:\\/\\/[A-Za-z0-9\\.\\/]+', ' ', raw)\n",
    "    raw = re.sub(r'(?::|;|=)(?:-)?(?:\\)|\\(|D|P)', ' ', raw)\n",
    "#     raw = re.sub(r'[^a-zA-z0-9\\s]', ' ', raw)\n",
    "    return raw"
   ]
  },
  {
   "cell_type": "code",
   "execution_count": 76,
   "id": "billion-dubai",
   "metadata": {},
   "outputs": [],
   "source": [
    "tweets_cleaned = tweets_df.copy()"
   ]
  },
  {
   "cell_type": "code",
   "execution_count": 77,
   "id": "valid-offense",
   "metadata": {},
   "outputs": [],
   "source": [
    "tweets_cleaned['Tweet'] = tweets_cleaned['Tweet'].apply(preprocessing)"
   ]
  },
  {
   "cell_type": "code",
   "execution_count": 78,
   "id": "detailed-classics",
   "metadata": {},
   "outputs": [
    {
     "data": {
      "text/html": [
       "<div>\n",
       "<style scoped>\n",
       "    .dataframe tbody tr th:only-of-type {\n",
       "        vertical-align: middle;\n",
       "    }\n",
       "\n",
       "    .dataframe tbody tr th {\n",
       "        vertical-align: top;\n",
       "    }\n",
       "\n",
       "    .dataframe thead th {\n",
       "        text-align: right;\n",
       "    }\n",
       "</style>\n",
       "<table border=\"1\" class=\"dataframe\">\n",
       "  <thead>\n",
       "    <tr style=\"text-align: right;\">\n",
       "      <th></th>\n",
       "      <th>Tweet</th>\n",
       "    </tr>\n",
       "  </thead>\n",
       "  <tbody>\n",
       "    <tr>\n",
       "      <th>0</th>\n",
       "      <td>I’m so glad these shots exist.  SnyderCut</td>\n",
       "    </tr>\n",
       "    <tr>\n",
       "      <th>1</th>\n",
       "      <td>Jack Snyder’s Justice League = ✔️ = 🤯🙌🏻👏🏻❤️...</td>\n",
       "    </tr>\n",
       "    <tr>\n",
       "      <th>2</th>\n",
       "      <td>Diana's heels must be one of the most sough...</td>\n",
       "    </tr>\n",
       "    <tr>\n",
       "      <th>3</th>\n",
       "      <td>Random Thought:\\n\\nGetting a second chance ...</td>\n",
       "    </tr>\n",
       "    <tr>\n",
       "      <th>4</th>\n",
       "      <td>Let's gooooo  SnyderCut  superman</td>\n",
       "    </tr>\n",
       "  </tbody>\n",
       "</table>\n",
       "</div>"
      ],
      "text/plain": [
       "                                               Tweet\n",
       "0        I’m so glad these shots exist.  SnyderCut  \n",
       "1     Jack Snyder’s Justice League = ✔️ = 🤯🙌🏻👏🏻❤️...\n",
       "2     Diana's heels must be one of the most sough...\n",
       "3     Random Thought:\\n\\nGetting a second chance ...\n",
       "4                Let's gooooo  SnyderCut  superman  "
      ]
     },
     "execution_count": 78,
     "metadata": {},
     "output_type": "execute_result"
    }
   ],
   "source": [
    "tweets_cleaned.head()"
   ]
  },
  {
   "cell_type": "code",
   "execution_count": 65,
   "id": "satellite-planning",
   "metadata": {},
   "outputs": [],
   "source": [
    "tweets_cleaned.to_csv('snyderCutTweets.csv', index=False)"
   ]
  },
  {
   "cell_type": "code",
   "execution_count": null,
   "id": "revised-hardwood",
   "metadata": {},
   "outputs": [],
   "source": []
  }
 ],
 "metadata": {
  "kernelspec": {
   "display_name": "Python 3",
   "language": "python",
   "name": "python3"
  },
  "language_info": {
   "codemirror_mode": {
    "name": "ipython",
    "version": 3
   },
   "file_extension": ".py",
   "mimetype": "text/x-python",
   "name": "python",
   "nbconvert_exporter": "python",
   "pygments_lexer": "ipython3",
   "version": "3.7.6"
  }
 },
 "nbformat": 4,
 "nbformat_minor": 5
}
