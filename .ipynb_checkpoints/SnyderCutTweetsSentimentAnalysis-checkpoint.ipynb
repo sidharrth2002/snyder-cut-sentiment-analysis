{
 "cells": [
  {
   "cell_type": "code",
   "execution_count": 38,
   "id": "korean-protection",
   "metadata": {},
   "outputs": [],
   "source": [
    "import tweepy\n",
    "from textblob import TextBlob\n",
    "from wordcloud import WordCloud\n",
    "import pandas as pd\n",
    "import numpy as np\n",
    "import re\n",
    "import matplotlib.pyplot as plt\n",
    "import json"
   ]
  },
  {
   "cell_type": "code",
   "execution_count": 39,
   "id": "organic-packaging",
   "metadata": {},
   "outputs": [],
   "source": [
    "with open(\"secrets.json\") as content:\n",
    "    secrets = json.load(content)"
   ]
  },
  {
   "cell_type": "code",
   "execution_count": 40,
   "id": "magnetic-sunrise",
   "metadata": {},
   "outputs": [],
   "source": [
    "apiKey = secrets.get(\"apiKey\")\n",
    "apiSecret = secrets.get(\"apiSecret\")\n",
    "accessToken = secrets.get(\"accessToken\")\n",
    "accessTokenSecret = secrets.get(\"accessTokenSecret\")"
   ]
  },
  {
   "cell_type": "code",
   "execution_count": 17,
   "id": "joined-tenant",
   "metadata": {},
   "outputs": [],
   "source": [
    "auth = tweepy.OAuthHandler(apiKey, apiSecret)\n",
    "auth.set_access_token(accessToken, accessTokenSecret)\n",
    "twitterAPI = tweepy.API(auth, wait_on_rate_limit=True)"
   ]
  },
  {
   "cell_type": "code",
   "execution_count": 34,
   "id": "representative-shepherd",
   "metadata": {},
   "outputs": [],
   "source": [
    "#scrape for tweets about the snyder cut\n",
    "tweets = tweepy.Cursor(twitterAPI.search, q='#snydercut', max_id=None, count=None, exclude_replies=True, trim_user=True, contributor_details=False, include_entities=False, lang='en', since='2021-03-17').items(700)"
   ]
  },
  {
   "cell_type": "code",
   "execution_count": 35,
   "id": "patient-cheat",
   "metadata": {},
   "outputs": [],
   "source": [
    "#store for analysis\n",
    "tweets_df = pd.DataFrame(data=[tweet.text for tweet in tweets], columns=['Tweet'])"
   ]
  },
  {
   "cell_type": "code",
   "execution_count": 41,
   "id": "hawaiian-master",
   "metadata": {},
   "outputs": [
    {
     "data": {
      "text/html": [
       "<div>\n",
       "<style scoped>\n",
       "    .dataframe tbody tr th:only-of-type {\n",
       "        vertical-align: middle;\n",
       "    }\n",
       "\n",
       "    .dataframe tbody tr th {\n",
       "        vertical-align: top;\n",
       "    }\n",
       "\n",
       "    .dataframe thead th {\n",
       "        text-align: right;\n",
       "    }\n",
       "</style>\n",
       "<table border=\"1\" class=\"dataframe\">\n",
       "  <thead>\n",
       "    <tr style=\"text-align: right;\">\n",
       "      <th></th>\n",
       "      <th>Tweet</th>\n",
       "    </tr>\n",
       "  </thead>\n",
       "  <tbody>\n",
       "    <tr>\n",
       "      <th>0</th>\n",
       "      <td>RT @Itssan17: Every single shot is like a beau...</td>\n",
       "    </tr>\n",
       "    <tr>\n",
       "      <th>1</th>\n",
       "      <td>@looper Zack Snyder's Steppenwolf to Joss Whed...</td>\n",
       "    </tr>\n",
       "    <tr>\n",
       "      <th>2</th>\n",
       "      <td>RT @EntInsider: 🍿 Could there be a sequel? 🍿\\n...</td>\n",
       "    </tr>\n",
       "    <tr>\n",
       "      <th>3</th>\n",
       "      <td>RT @brookstweetz: Future Justice League member...</td>\n",
       "    </tr>\n",
       "    <tr>\n",
       "      <th>4</th>\n",
       "      <td>RT @EntInsider: 🃏 What was the Joker/Batman sc...</td>\n",
       "    </tr>\n",
       "  </tbody>\n",
       "</table>\n",
       "</div>"
      ],
      "text/plain": [
       "                                               Tweet\n",
       "0  RT @Itssan17: Every single shot is like a beau...\n",
       "1  @looper Zack Snyder's Steppenwolf to Joss Whed...\n",
       "2  RT @EntInsider: 🍿 Could there be a sequel? 🍿\\n...\n",
       "3  RT @brookstweetz: Future Justice League member...\n",
       "4  RT @EntInsider: 🃏 What was the Joker/Batman sc..."
      ]
     },
     "execution_count": 41,
     "metadata": {},
     "output_type": "execute_result"
    }
   ],
   "source": [
    "tweets_df.head()"
   ]
  },
  {
   "cell_type": "code",
   "execution_count": 37,
   "id": "focused-century",
   "metadata": {},
   "outputs": [],
   "source": [
    "tweets_df.to_csv('snyderCutTweets.csv', index=False)"
   ]
  }
 ],
 "metadata": {
  "kernelspec": {
   "display_name": "Python 3",
   "language": "python",
   "name": "python3"
  },
  "language_info": {
   "codemirror_mode": {
    "name": "ipython",
    "version": 3
   },
   "file_extension": ".py",
   "mimetype": "text/x-python",
   "name": "python",
   "nbconvert_exporter": "python",
   "pygments_lexer": "ipython3",
   "version": "3.7.6"
  }
 },
 "nbformat": 4,
 "nbformat_minor": 5
}
